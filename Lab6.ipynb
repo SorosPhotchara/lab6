{
  "nbformat": 4,
  "nbformat_minor": 0,
  "metadata": {
    "colab": {
      "provenance": [],
      "include_colab_link": true
    },
    "kernelspec": {
      "name": "python3",
      "display_name": "Python 3"
    },
    "language_info": {
      "name": "python"
    }
  },
  "cells": [
    {
      "cell_type": "markdown",
      "metadata": {
        "id": "view-in-github",
        "colab_type": "text"
      },
      "source": [
        "<a href=\"https://colab.research.google.com/github/SorosPhotchara/lab6/blob/main/Lab6.ipynb\" target=\"_parent\"><img src=\"https://colab.research.google.com/assets/colab-badge.svg\" alt=\"Open In Colab\"/></a>"
      ]
    },
    {
      "cell_type": "markdown",
      "source": [
        "Ex. 6.1 ให้เขียนฟังก์ชันชื่อ test_ pangram เพื่อตรวจสอบว่า String ที่รับเข้ามาเป็น pangram หรือไม่ โดย pangram คือ string ที่ประกอบด้วยตัวอักษรทุกตัวในภาษาอังกฤษ (ต้องมีอักษรแต่ละตัวปรากฏอย่างน้อย 1 ครั้ง) เช่น\n",
        "The quick brown fox jumps over the lazy dog\n",
        "รับข้อมูลเป็น string และ return เป็น True หรือ False"
      ],
      "metadata": {
        "id": "g1jKRrPZdrD9"
      }
    },
    {
      "cell_type": "code",
      "execution_count": null,
      "metadata": {
        "colab": {
          "base_uri": "https://localhost:8080/"
        },
        "id": "oc_mt8z2dluv",
        "outputId": "59eedf1e-23e1-4836-9ea7-4a4374e79843"
      },
      "outputs": [
        {
          "output_type": "stream",
          "name": "stdout",
          "text": [
            "True\n",
            "False\n"
          ]
        }
      ],
      "source": [
        "def test_pangram(str):\n",
        "  alphabet = [chr(i) for i in range(ord('a'), ord('z') + 1)]\n",
        "  checked = []\n",
        "  for i in alphabet:\n",
        "    if i in str and i not in checked:\n",
        "      checked.append(i)\n",
        "  else:\n",
        "    if len(checked) == 26:\n",
        "      return('True')\n",
        "    else :\n",
        "      return('False')\n",
        "\n",
        "print(test_pangram(\"The quick brown fox jumps over the lazy dog\"))\n",
        "print(test_pangram(\"jglkvdfjvkmxdcvl;dssfvrekvlj;dfljvklkadjsvklsjdflksjdflkdsjflksdjflksdjdjlkfkjkkjslfjsdk\"))\n"
      ]
    },
    {
      "cell_type": "markdown",
      "source": [
        "Ex 6.2 จงเขียน โปรแกรมที่รวมผลลัพธ์ ของตัวเลขที่อยู่ใน List โดยกำหนดให้ฟังก์ชัน ชื่อ find_sum(n_list,n) โดย n_list เป็น List ของตัวเลขที่มีความยาว n โดยให้เขียนในแบบ Recursion\n"
      ],
      "metadata": {
        "id": "jsFdK2rreKku"
      }
    },
    {
      "cell_type": "code",
      "source": [
        "def find_sum(n_list,n):\n",
        "  if n == 0:\n",
        "    return 0\n",
        "  else :\n",
        "    return n_list[-1] + find_sum(n_list[0:-1],n-1)\n",
        "print(find_sum([1,2,3,4,5,6,7,8,9,10],10))"
      ],
      "metadata": {
        "id": "SWhMgyAc0uSI",
        "colab": {
          "base_uri": "https://localhost:8080/"
        },
        "outputId": "6b5e87e6-b321-4122-eed6-3bb83b5a9490"
      },
      "execution_count": 59,
      "outputs": [
        {
          "output_type": "stream",
          "name": "stdout",
          "text": [
            "55\n"
          ]
        }
      ]
    },
    {
      "cell_type": "markdown",
      "source": [
        "Ex 6.3 กำหนดให้ List x เก็บ String และตัวแปร c เก็บตัวอักษร\n",
        "ให้สร้าง List d ที่เก็บจำนวนครั้งที่ตัวอักษรใน c ปรากฏในแต่ละ String ของ List x โดยใช้ List comprehension\n",
        "\n",
        "- เช่น x = [‘abba’, ‘babana’, ‘ann’]; c = ‘a’\n",
        "- จะได้ d = [2, 3, 1]\n",
        "\n",
        "ให้เขียนในฟังก์ชัน count_char_in_string(x,c) แล้ว return เป็น List คำตอบ"
      ],
      "metadata": {
        "id": "S9FRT-zz05-A"
      }
    },
    {
      "cell_type": "code",
      "source": [
        "def count_char_in_string(x,c):\n",
        "  list_d = [x[i].count(c) for i in range(len(x))]\n",
        "  # for i in range(len(x)):\n",
        "  #   total = x[i].count(c)\n",
        "  #   list_d.append(total)\n",
        "  return(list_d)\n",
        "\n",
        "print(count_char_in_string(['abba', 'babana', 'ann'],'a')) #=> [2, 3, 1]\n",
        "print(count_char_in_string(['apple', 'banana', 'cherry'],'a')) #=> [1, 3, 1]\n",
        "print(count_char_in_string(['dog', 'cat', 'fish'],'z')) #=> [0, 0, 0]\n",
        "print(count_char_in_string(['abc', 'bcb', 'cab'],'b')) #=> [1, 2, 1]\n",
        "print(count_char_in_string(['', 'a', ''],'a')) #=> [0, 1, 0]\n",
        "print(count_char_in_string(['@home', '#hash', 'space '],'#')) #=> [0, 1, 0]"
      ],
      "metadata": {
        "id": "yQZQFVa01JPs",
        "colab": {
          "base_uri": "https://localhost:8080/"
        },
        "outputId": "07c361e7-13a9-4b7d-d717-c720d5ca1767"
      },
      "execution_count": null,
      "outputs": [
        {
          "output_type": "stream",
          "name": "stdout",
          "text": [
            "[2, 3, 1]\n",
            "[1, 3, 0]\n",
            "[0, 0, 0]\n",
            "[1, 2, 1]\n",
            "[0, 1, 0]\n",
            "[0, 1, 0]\n"
          ]
        }
      ]
    },
    {
      "cell_type": "markdown",
      "source": [
        "Ex 6.4  กำหนดให้ List x เป็น List ของจำนวนเต็ม\n",
        "ให้เขียนโปรแกรมเพื่อลบจำนวนเต็มทุกตัวใน x ที่มีค่าเป็นลบ โดยใช้ List comprehension\n",
        "\n",
        "- เช่น x = [ [1, -3, 2], [-8, 5], [-1, -4, -3] ]\n",
        "- ได้คำตอบเป็น [ [1, 2], [5], [] ]\n",
        "\n",
        "ให้เขียนในฟังก์ชัน delete_minus(x) แล้ว return เป็น List คำตอบ\n",
        "Hint : ถ้าคิดไม่ออกให้ทดลองเขียนแบบปกติก่อน แล้วค่อยลดรูป\n"
      ],
      "metadata": {
        "id": "vRtEJLkP5MLT"
      }
    },
    {
      "cell_type": "code",
      "source": [
        "def delete_minus(x):\n",
        "    positive = [[num for num in i if num >= 0] for i in x]\n",
        "    return positive\n",
        "\n",
        "print(delete_minus([[1, -3, 2], [-8, 5], [-1, -4, -3]])) #=> [[1, 2], [5], []]\n",
        "print(delete_minus([[0, -1, -2], [3, 4, -5], [-6, 7]])) #=> [[0], [3, 4], [7]]\n",
        "print(delete_minus([[10, -10, 20], [-30, 30], [40, -40]])) #=> [[10, 20], [30], [40]]\n",
        "print(delete_minus([[1, 2, 3], [4, 5], [6]])) #=> [[1, 2, 3], [4, 5], [6]]\n",
        "print(delete_minus([[-1, -2, -3], [-4, -5], [-6]])) #=> [[], [], []]\n",
        "print(delete_minus([[-10, -20, -30], [-40, -50], [-60]])) #=> [[], [], []]"
      ],
      "metadata": {
        "id": "SDA5CALo5WPK",
        "colab": {
          "base_uri": "https://localhost:8080/"
        },
        "outputId": "9f1fa88f-4f55-451b-89bd-87f5bfb97abb"
      },
      "execution_count": 55,
      "outputs": [
        {
          "output_type": "stream",
          "name": "stdout",
          "text": [
            "[[1, 2], [5], []]\n",
            "[[0], [3, 4], [7]]\n",
            "[[10, 20], [30], [40]]\n",
            "[[1, 2, 3], [4, 5], [6]]\n",
            "[[], [], []]\n",
            "[[], [], []]\n"
          ]
        }
      ]
    },
    {
      "cell_type": "markdown",
      "source": [
        "Ex 6.5 ให้เขียนโปรแกรมเพื่อรับข้อมูล 1 บรรทัด ที่ประกอบด้วยจำนวนเต็มหลายจำนวน (คั่นด้วยช่องว่าง)\n",
        "ให้ส่งคืนว่ามีจำนวนที่เป็นลบกี่จำนวน โดยใช้ List comprehension\n",
        "ให้เขียนในฟังก์ชัน count_minus(str) แล้ว return เป็นคำตอบ"
      ],
      "metadata": {
        "id": "nLUpu-7v6MCa"
      }
    },
    {
      "cell_type": "code",
      "source": [
        "def count_minus(str):\n",
        "  lststr = str.split(' ')\n",
        "  negative = [i for i in lststr if int(i) < 0 ]\n",
        "  return len(negative)\n",
        "print(count_minus(\"1 2 -3 4 -5\"))# => 2\n",
        "print(count_minus(\"-1 -2 -3 -4 -5\"))# => 5\n",
        "print(count_minus(\"1 2 3 4 5\"))# => 0\n",
        "print(count_minus(\"0 0 0 0 0\"))# => 0\n",
        "print(count_minus(\"-10 -20 -30 -40 -50\"))# => 5"
      ],
      "metadata": {
        "id": "BO0JESLu9cVj",
        "colab": {
          "base_uri": "https://localhost:8080/"
        },
        "outputId": "8fc4a2d2-b70d-4ca3-a07b-f09bca47281c"
      },
      "execution_count": 35,
      "outputs": [
        {
          "output_type": "stream",
          "name": "stdout",
          "text": [
            "2\n",
            "5\n",
            "0\n",
            "0\n",
            "5\n"
          ]
        }
      ]
    },
    {
      "cell_type": "markdown",
      "source": [
        "Ex 6.6 ให้เขียนโปรแกรมเพื่อรับ string 1 ตัว\n",
        "ให้ส่งคืนเฉพาะตัวอักษรที่เป็นภาษาอังกฤษ โดยใช้ List comprehension\n",
        "ให้เขียนในฟังก์ชัน only_english(string1) แล้ว return เป็นคำตอบเป็น string"
      ],
      "metadata": {
        "id": "18YUhkQ96Fiw"
      }
    },
    {
      "cell_type": "code",
      "source": [
        "import string\n",
        "def only_english(string1):\n",
        "  lststr = [i for i in string1]\n",
        "  result = [j for j in lststr if j in string.ascii_letters or j == ' ']\n",
        "  return ''.join(result)\n",
        "print(only_english(\"Hello, World!\")) #=> \"Hello World\"\n",
        "print(only_english(\"This is a test.\"))# => \"This is a test\"\n",
        "print(only_english(\"12345\"))# => \"\"\n",
        "print(only_english(\"abcABC123\")) #=> \"abcABC\"\n",
        "print(only_english(\"!@#$%^&*()\"))# => \"\""
      ],
      "metadata": {
        "id": "QM_Vbz-k9shU",
        "colab": {
          "base_uri": "https://localhost:8080/"
        },
        "outputId": "a71f7ff3-d596-4e95-c538-dc492e5a3f76"
      },
      "execution_count": 27,
      "outputs": [
        {
          "output_type": "stream",
          "name": "stdout",
          "text": [
            "Hello World\n",
            "This is a test\n",
            "\n",
            "abcABC\n",
            "\n"
          ]
        }
      ]
    },
    {
      "cell_type": "markdown",
      "source": [
        "Ex 6.7 กำหนดให้ list x และ y เป็น list ของจำนวนเต็ม โดยมีขนาดเท่ากัน\n",
        "ให้ return list ที่เป็นผลบวกของ list x และ y โดยใช้ list comprehension\n",
        "เขียนให้ function ชื่อ add2list(lst1,lst2)\n",
        "\n",
        "\n"
      ],
      "metadata": {
        "id": "S5dKtu4o96b-"
      }
    },
    {
      "cell_type": "code",
      "source": [
        "def add2list(lst1,lst2):\n",
        "  result = [lst1[i]+lst2[i] for i in range(len(lst1))]\n",
        "  return result\n",
        "print(add2list([1, 2, 3], [4, 5, 6]))# => [5, 7, 9]\n",
        "print(add2list([-1, -2, -3], [1, 2, 3]))# => [0, 0, 0]\n",
        "print(add2list([0, 0, 0], [10, 20, 30]))# => [10, 20, 30]\n",
        "print(add2list([7, 8, 9], [3, 2, 1])) #=> [10, 10, 10]\n",
        "print(add2list([100, 200, 300], [400, 500, 600]))# => [500, 700, 900]\n",
        "print(add2list([1, 2, 3, 4, 5], [6, 7, 8, 9, 10]))# => [7, 9, 11, 13, 15]\n"
      ],
      "metadata": {
        "id": "L18pzqF5-AtR",
        "colab": {
          "base_uri": "https://localhost:8080/"
        },
        "outputId": "de9e7b9a-3228-4cf5-b4f8-367848d8c3e8"
      },
      "execution_count": 21,
      "outputs": [
        {
          "output_type": "stream",
          "name": "stdout",
          "text": [
            "[5, 7, 9]\n",
            "[0, 0, 0]\n",
            "[10, 20, 30]\n",
            "[10, 10, 10]\n",
            "[500, 700, 900]\n",
            "[7, 9, 11, 13, 15]\n"
          ]
        }
      ]
    },
    {
      "cell_type": "markdown",
      "source": [
        "1.\tกำหนดให้ m เป็น list ของ list ของ Integer ให้แปลง m ให้เป็น list ของ integer โดยใช้ List Comprehension โดยให้เขียนเป็น ฟังก์ชัน ชื่อ flatten_list(lst) และ return เป็น list คำตอบ\n",
        "- Input : [ [1, 2, 3], [4, 5, 6] ]\n",
        "- Output : [1, 2, 3, 4, 5, 6]\n"
      ],
      "metadata": {
        "id": "5HpBdNsU-4SW"
      }
    },
    {
      "cell_type": "code",
      "source": [
        "def flatten_list(lst):\n",
        "  mixlst = [i[j] for i in lst for j in range(len(i))]\n",
        "  return mixlst\n",
        "print(flatten_list([[1, 2, 3], [4, 5, 6]])) #=> [1, 2, 3, 4, 5, 6]\n",
        "print(flatten_list([[7, 8], [9, 10], [11, 12]]))# => [7, 8, 9, 10, 11, 12]\n",
        "print(flatten_list([[0], [1], [2], [3]])) #=> [0, 1, 2, 3]\n",
        "print(flatten_list([[1, 1, 1], [2, 2], [3]])) #=> [1, 1, 1, 2, 2, 3]\n",
        "print(flatten_list([[5, 6, 7], [8], [9, 10]])) #=> [5, 6, 7, 8, 9, 10]\n"
      ],
      "metadata": {
        "id": "nfKGEY7d--zX",
        "colab": {
          "base_uri": "https://localhost:8080/"
        },
        "outputId": "971174b4-5e93-4451-860c-94302f48b08e"
      },
      "execution_count": 18,
      "outputs": [
        {
          "output_type": "stream",
          "name": "stdout",
          "text": [
            "[1, 2, 3, 4, 5, 6]\n",
            "[7, 8, 9, 10, 11, 12]\n",
            "[0, 1, 2, 3]\n",
            "[1, 1, 1, 2, 2, 3]\n",
            "[5, 6, 7, 8, 9, 10]\n"
          ]
        }
      ]
    },
    {
      "cell_type": "markdown",
      "source": [
        "2.\tกำหนดให้ s เป็น list ของ Integer ให้เขียนโปรแกรม ตัดตัวเลขที่ซ้ำกันใน list ให้เหลือเพียงตัวเลขเดียว โดยใช้ list comprehension (ห้ามใช้ set) โดยมีขั้นตอนดังนี้\n",
        "-\tเรียงลำดับข้อมูลใน list\n",
        "-\tสร้าง list ใหม่ โดยนำข้อมูลใน list ตัวที่ติดกันมาพิจารณาจากซ้ายไปขวา หากค่าไม่เท่ากันให้นำไปใส่ใน list ใหม่\n",
        "-\tนำตัวขวาสุด (ตัวสุดท้าย) เพิ่มเข้าไปใน list ใหม่ ก็จะได้ s ที่ไม่มีตัวซ้ำ\n",
        "-\tโดยให้เขียนเป็นฟังก์ชัน ชื่อ remove_duplicate(s)\n",
        "\n",
        "- Input : [1, 2, 3, 3, 4, 5, 6]\n",
        "- Output : [1, 2, 3, 4, 5, 6]\n",
        "\n",
        "ห้ามใช้ sort"
      ],
      "metadata": {
        "id": "_FXeyEnm_y8X"
      }
    },
    {
      "cell_type": "code",
      "source": [
        "def remove_duplicate(s) :\n",
        "  for i in range(0, len(s)):\n",
        "      for j in range(i+1, len(s)):\n",
        "          if s[i] >= s[j]:\n",
        "              s[i], s[j] = s[j],s[i]\n",
        "  newlist = [s[i] for i in range(len(s)) if s[i] not in s[:i]]\n",
        "  return newlist\n",
        "print(remove_duplicate([1, 2, 3, 3, 4, 5, 6])) #=> [1, 2, 3, 4, 5, 6]\n",
        "print(remove_duplicate([5, 1, 3, 3, 2, 5, 1])) #=> [1, 2, 3, 5]\n",
        "print(remove_duplicate([7, 7, 8, 8, 8, 9])) #=> [7, 8, 9]\n",
        "print(remove_duplicate([10, 10, 10, 10])) #=> [10]\n",
        "print(remove_duplicate([1, 2, 2, 3, 4, 4, 4, 5])) #=> [1, 2, 3, 4, 5]"
      ],
      "metadata": {
        "id": "iH8ceRWJ_5wq",
        "outputId": "08c572b4-6dc4-4da1-cd46-c7f55a947d6b",
        "colab": {
          "base_uri": "https://localhost:8080/"
        }
      },
      "execution_count": null,
      "outputs": [
        {
          "output_type": "stream",
          "name": "stdout",
          "text": [
            "[1, 2, 3, 4, 5, 6]\n",
            "[1, 2, 3, 5]\n",
            "[7, 8, 9]\n",
            "[10]\n",
            "[1, 2, 3, 4, 5]\n"
          ]
        }
      ]
    },
    {
      "cell_type": "markdown",
      "source": [
        "3.\tกำหนดให้มี 2 list คือ lst1 และ lst2 ให้ค้นหาสมาชิกที่มีในทั้ง 2 list โดยใช้ list comprehension\n",
        "(ห้ามใช้ set) โดยให้เขียนเป็นฟังก์ชันชื่อ common_member(lst1, lst2) โดย return เป็น list ที่มีสมาชิกทั้ง 2 list\n",
        "- Input : lst1 = [1, 2, 4, 5, 6] lst2 = [2, 3, 4]\n",
        "- Output : [2, 4]\n"
      ],
      "metadata": {
        "id": "f9smt54DAyYU"
      }
    },
    {
      "cell_type": "code",
      "source": [
        "def common_member(lst1, lst2):\n",
        "  result = [j for i in lst1 for j in lst2 if j == i]\n",
        "  # for i in lst1 :\n",
        "  #   for j in lst2 :\n",
        "  #     if j == i:\n",
        "  #       result.append(j)\n",
        "  return result\n",
        "\n",
        "print(common_member([1, 2, 4, 5, 6], [2, 3, 4]))# => [2, 4]\n",
        "print(common_member([1, 2, 3, 4, 5], [6, 7, 8]))# => []\n",
        "print(common_member([1, 2, 3, 4, 5], [1, 2, 3, 4, 5]))# => [1, 2, 3, 4, 5]\n",
        "print(common_member([1, 2, 3, 4, 5], [5, 4, 3, 2, 1]))# => [1, 2, 3, 4, 5]\n",
        "print(common_member([1, 2, 3, 4, 5], [6, 7, 8, 9, 10]))# => []\n"
      ],
      "metadata": {
        "id": "3K2MCpiWA-tX",
        "colab": {
          "base_uri": "https://localhost:8080/"
        },
        "outputId": "2987c058-8027-4d69-bd90-8f22b193fa38"
      },
      "execution_count": 11,
      "outputs": [
        {
          "output_type": "stream",
          "name": "stdout",
          "text": [
            "[2, 4]\n",
            "[]\n",
            "[1, 2, 3, 4, 5]\n",
            "[1, 2, 3, 4, 5]\n",
            "[]\n"
          ]
        }
      ]
    },
    {
      "cell_type": "markdown",
      "source": [
        "4.\tกำหนดให้ s เป็น String ให้เขียนโปรแกรมโดยใช้ List comprehension โดยให้ตัดตัวอักษรภาษาอังกฤษที่เป็นสระ a, e, i, o, u ออกจากประโยคให้หมด เช่น\n",
        "\n",
        "- Input : “common_member” จะได้ Output เป็น “cmmn mmbr”\n",
        "\n"
      ],
      "metadata": {
        "id": "V71CdsnEBWu8"
      }
    },
    {
      "cell_type": "code",
      "source": [
        "def remove_vowels(s):\n",
        "  vowels = ['a','e','i','o','u']\n",
        "  s_lst = [i for i in s]\n",
        "  s_lst = [char if (char != '_' or char !=' ') and char not in vowels else '' for char in s_lst]\n",
        "  for x in range(len(s_lst)):\n",
        "    if s_lst[x] == '_':\n",
        "      s_lst[x] = ' '\n",
        "  result = ''.join(s_lst)\n",
        "  return result\n",
        "print(remove_vowels(\"common_member\"))# => \"cmmn mmbr\"\n",
        "print(remove_vowels(\"hello world\")) #=> \"hll wrld\"\n",
        "print(remove_vowels(\"aeiou\"))# => \"\"\n",
        "print(remove_vowels(\"qwertyuiop\"))# => \"qwert\n",
        "print(remove_vowels(\"abcdefghijklmnopqrstuvwxyz\"))# => \"bcdfghjklmnp"
      ],
      "metadata": {
        "id": "UNjxlDMqBcSz",
        "colab": {
          "base_uri": "https://localhost:8080/"
        },
        "outputId": "4dfc9756-c8c7-421e-8e7a-67175d72fde2"
      },
      "execution_count": 2,
      "outputs": [
        {
          "output_type": "stream",
          "name": "stdout",
          "text": [
            "cmmn mmbr\n",
            "hll wrld\n",
            "\n",
            "qwrtyp\n",
            "bcdfghjklmnpqrstvwxyz\n"
          ]
        }
      ]
    },
    {
      "cell_type": "markdown",
      "source": [
        "5.\tให้เขียนโปรแกรมรับ list ของจำนวนเต็มชุดหนึ่ง โดย list นี้จะมีสมาชิกพิเศษอยู่ที่ตัวสุดท้าย ซึ่งจะมีค่าเป็นลบเสมอ (สมาชิกตัวอื่นเป็นบวกหรือลบก็ได้) ให้สร้าง list ใหม่ที่เกิดจากสมาชิกทุกตัว (ยกเว้นตัวสุดท้าย) ลบด้วยสมาชิกตัวสุดท้าย\n",
        "- Input : [1, 10, 2, -5]\n",
        "- Output: [-4, 5, -3]\n",
        "- Input : [100, 0, -1]\n",
        "- Output: [99, -1]\n",
        "- Input : [3, -3]\n",
        "\n"
      ],
      "metadata": {
        "id": "Zo07ebrTBjgA"
      }
    },
    {
      "cell_type": "code",
      "source": [
        "def remove_last_element(lst):\n",
        "  last = int(lst[-1])\n",
        "  new_lst = []\n",
        "  for i in range(len(lst)-1):\n",
        "    process = (int(lst[i])) + last\n",
        "    new_lst.append(process)\n",
        "  return (new_lst)\n",
        "print(remove_last_element([1, 10, 2, -5]))# => [-4, 5, -3]\n",
        "print(remove_last_element([100, 0, -1]))# => [99, -1]\n",
        "print(remove_last_element([3, -3]))# => [0]\n",
        "\n"
      ],
      "metadata": {
        "id": "cSSMJX5fBi8-",
        "colab": {
          "base_uri": "https://localhost:8080/"
        },
        "outputId": "4414a000-ab46-4035-cfee-3cdf759ebebc"
      },
      "execution_count": 2,
      "outputs": [
        {
          "output_type": "stream",
          "name": "stdout",
          "text": [
            "[-4, 5, -3]\n",
            "[99, -1]\n",
            "[0]\n"
          ]
        }
      ]
    },
    {
      "cell_type": "markdown",
      "source": [
        "6.\tกำหนดให้ s เป็น String ให้เขียนโปรแกรมเพื่อหา คำ ที่มีความยาวน้อยกว่า 5 ตัวอักษร โดยใช้ list comprehension\n",
        "- Input : “A total of 16 playable characters!”\n",
        "- Output : “A total of 16”\n",
        "\n"
      ],
      "metadata": {
        "id": "kguZ7w78CP0W"
      }
    },
    {
      "cell_type": "code",
      "source": [
        "def find_short_words(s):\n",
        "  shortwd = s.split()\n",
        "  # for i in range(len(shortwd)):\n",
        "  #   for j in shortwd:\n",
        "  #     if len(j) >= 5 :\n",
        "  #         shortwd.remove(j)\n",
        "  newwd = [j for j in shortwd if len(j) < 5]\n",
        "  return(str.join(' ', newwd))\n",
        "  # return(newwd)\n",
        "print(find_short_words(\"A total of 16 playable characters!\")) #=> \"A total of 16\"\n",
        "print(find_short_words(\"The quick brown fox jumps over the lazy dog\")) #=> \"The fox over the lazy dog\"\n",
        "print(find_short_words(\"Python is a great programming language\")) #=> \"is a\"\n",
        "print(find_short_words(\"Short words are kept short and long words are ignored\")) #=> \"are kept and are\"\n"
      ],
      "metadata": {
        "id": "IN6wcH_WCVJv",
        "colab": {
          "base_uri": "https://localhost:8080/"
        },
        "outputId": "d9fda86e-4263-4b5a-d5d4-4f96cd01c76b"
      },
      "execution_count": null,
      "outputs": [
        {
          "output_type": "stream",
          "name": "stdout",
          "text": [
            "A of 16\n",
            "The fox over the lazy dog\n",
            "is a\n",
            "are kept and long are\n"
          ]
        }
      ]
    },
    {
      "cell_type": "markdown",
      "source": [
        "7.\tให้เขียนโปรแกรมเพื่อคำนวณหา rank ของรหัสนักศึกษาที่กำหนด โดยให้เรียงตามคะแนน โดย rank = 1 คือ มีคะแนนสูงสุด โดยใช้ list comprehension\n",
        "กำหนดให้มีข้อมูล s_score มีตัวอย่างดังนี้\n",
        "\n",
        "s_score = [\t[‘65015001’, 87.25],\n",
        "\t\t[‘65015002’, 77.00],\n",
        "\t\t[‘65015003’, 82.50],\n",
        "\t\t[‘65015004’, 69.75],\n",
        "\t\t[‘65015005’, 66.00]  ]\n",
        "    \n",
        "ให้เขียนฟังก์ชัน find_rank( s_score, stu_id ) โดย s_score เป็น list ของคะแนน และ std_id เป็นรหัสนักศึกษาที่ต้องการหา rank\n",
        "เช่น find_rank ( s_score, ‘65015004’) จะ return 4 เพราะมีคะแนนเป็นอันดับ 4\n"
      ],
      "metadata": {
        "id": "yioC3udBDK3M"
      }
    },
    {
      "cell_type": "code",
      "source": [
        "def sort_rank(s_score):\n",
        "  sort_ranks = []\n",
        "  sort_ranks += s_score\n",
        "  for i in range(len(sort_ranks)) :\n",
        "    for j in range(len(sort_ranks)) :\n",
        "      if sort_ranks[i][1] == sort_ranks[j][1]:\n",
        "        continue\n",
        "      if sort_ranks[i][1] > sort_ranks[j][1]:\n",
        "        sort_ranks[i],sort_ranks[j] = sort_ranks[j],sort_ranks[i]\n",
        "      else :\n",
        "        continue\n",
        "  return sort_ranks\n",
        "\n",
        "def find_rank(s_score, stu_id):\n",
        "  sorted = sort_rank(s_score)\n",
        "  return sorted#[i+1 for i in range(len(sorted)) if stu_id in sorted[i] ]\n",
        "\n",
        "s_score = [['65015001', 87.25], ['65015002', 77.00], ['65015003', 82.50], ['65015004', 69.75], ['65015005', 66.00]]\n",
        "print(find_rank(s_score, '65015004'))  # Output: 4\n",
        "\n",
        "# # Test Case 2\n",
        "s_score = [['65015001', 90.00], ['65015002', 80.00], ['65015003', 85.00], ['65015004', 70.00], ['65015005', 60.00]]\n",
        "print(find_rank(s_score, '65015002'))  # Output: 3\n",
        "\n",
        "# # Test Case 3\n",
        "s_score = [['65015001', 95.00], ['65015002', 95.00], ['65015003', 90.00], ['65015004', 85.00], ['65015005', 80.00]]\n",
        "print(find_rank(s_score, '65015001'))  # Output: 1\n",
        "\n",
        "# # Test Case 4\n",
        "s_score = [['65015001', 50.00], ['65015002', 60.00], ['65015003', 70.00], ['65015004', 80.00], ['65015005', 90.00]]\n",
        "print(find_rank(s_score, '65015005'))  # Output: 1\n",
        "\n",
        "# # Test Case 5\n",
        "s_score = [['65015001', 55.00], ['65015002', 65.00], ['65015003', 75.00], ['65015004', 85.00], ['65015005', 95.00]]\n",
        "print(find_rank(s_score, '65015003'))  # Output: 3\n",
        "\n"
      ],
      "metadata": {
        "id": "72EkAIBjDTO_",
        "colab": {
          "base_uri": "https://localhost:8080/"
        },
        "outputId": "6c95472a-16e1-43d9-b73b-2f30204c11b5"
      },
      "execution_count": 119,
      "outputs": [
        {
          "output_type": "stream",
          "name": "stdout",
          "text": [
            "[['65015001', 87.25], ['65015003', 82.5], ['65015002', 77.0], ['65015004', 69.75], ['65015005', 66.0]]\n",
            "[['65015001', 90.0], ['65015003', 85.0], ['65015002', 80.0], ['65015004', 70.0], ['65015005', 60.0]]\n",
            "[['65015002', 95.0], ['65015001', 95.0], ['65015003', 90.0], ['65015004', 85.0], ['65015005', 80.0]]\n",
            "[['65015005', 90.0], ['65015004', 80.0], ['65015003', 70.0], ['65015002', 60.0], ['65015001', 50.0]]\n",
            "[['65015005', 95.0], ['65015004', 85.0], ['65015003', 75.0], ['65015002', 65.0], ['65015001', 55.0]]\n"
          ]
        }
      ]
    },
    {
      "cell_type": "markdown",
      "source": [
        "8.\tให้เขียนโปรแกรม เพื่อหาข้อมูลที่มีความถี่มากกว่าครึ่งหนึ่งของจำนวนข้อมูลที่รับเข้ามา แต่ถ้าไม่พบให้แสดง Not found โดยใช้ list comprehension\n",
        "\n",
        "- เช่น \t[4, 5, 5, 10] ได้ผลลัพธ์เป็น Not found\n",
        "-\t[4, 5, 5] ได้ผลลัพธ์เป็น 5\n",
        "-\t[10, 5, 5, 3, 5] ได้ผลลัพธ์เป็น 5\n",
        "-\t[2, 4, 2, 4, 2, 4] ได้ผลลัพธ์เป็น Not found\n",
        "\n",
        "ให้เขียนเป็นฟังก์ชัน ชื่อ more_than_half(n_list) โดย n_list เป็นข้อมูลนำเข้า และ return เป็นผลลัพธ์ หรือ Not found\n"
      ],
      "metadata": {
        "id": "oJGkdpmfEH2e"
      }
    },
    {
      "cell_type": "code",
      "source": [
        "def more_than_half(n_list):\n",
        "  half = len(n_list)//2\n",
        "  result = ''\n",
        "  for i in n_list:\n",
        "    sum = n_list.count(i)\n",
        "    if sum > half:\n",
        "      result = i\n",
        "    else :\n",
        "      result = \"Not found\"\n",
        "  return result\n",
        "\n",
        "print(more_than_half([4, 5, 5, 10])) #=> \"Not found\"\n",
        "print(more_than_half([4, 5, 5])) #=> 5\n",
        "print(more_than_half([10, 5, 5, 3, 5]))# => 5\n",
        "print(more_than_half([2, 4, 2, 4, 2, 4])) #=> \"Not found\"\n"
      ],
      "metadata": {
        "id": "ahXL6sfbEQUQ",
        "colab": {
          "base_uri": "https://localhost:8080/"
        },
        "outputId": "848ddd1d-9e92-49c8-a10f-c49b854f35f9"
      },
      "execution_count": null,
      "outputs": [
        {
          "output_type": "stream",
          "name": "stdout",
          "text": [
            "Not found\n",
            "5\n",
            "5\n",
            "Not found\n"
          ]
        }
      ]
    },
    {
      "cell_type": "markdown",
      "source": [
        "9.\tจงเขียนโปรแกรมในแบบ recursion เพื่อกลับ String เช่น\n",
        "- Input : 'desserts'\n",
        "- Output : 'stressed'\n"
      ],
      "metadata": {
        "id": "0oTFJs2PEkL5"
      }
    },
    {
      "cell_type": "code",
      "source": [
        "string = 'desserts'\n",
        "def reverse_string(s):\n",
        "    if len(s) <= 1:\n",
        "        return s\n",
        "    return reverse_string(s[1:]) + s[0]\n",
        "output_string = reverse_string(string)\n",
        "print(output_string)"
      ],
      "metadata": {
        "id": "_h5KwR9WEo7e",
        "colab": {
          "base_uri": "https://localhost:8080/"
        },
        "outputId": "6098a36e-7d3a-4773-d1a5-cd9bc92ed5e1"
      },
      "execution_count": null,
      "outputs": [
        {
          "output_type": "stream",
          "name": "stdout",
          "text": [
            "stressed\n"
          ]
        }
      ]
    }
  ]
}